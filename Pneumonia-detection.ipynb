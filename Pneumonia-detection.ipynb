{
 "cells": [
  {
   "cell_type": "markdown",
   "id": "c7f5603e",
   "metadata": {},
   "source": [
    "# Pneummonia detection image classifier"
   ]
  },
  {
   "cell_type": "markdown",
   "id": "d615d557",
   "metadata": {},
   "source": [
    "In this project we'll set up a CNN model to predict on a famous tensorflow dataset."
   ]
  },
  {
   "cell_type": "code",
   "execution_count": 1,
   "id": "861b37a6",
   "metadata": {},
   "outputs": [],
   "source": [
    "import numpy as np \n",
    "import tensorflow as tf \n",
    "import tensorflow_datasets as tfds\n",
    "from tensorflow.keras import Sequential\n",
    "from tensorflow.keras.layers import Dense, Flatten\n",
    "from sklearn.metrics import confusion_matrix\n",
    "import matplotlib.pyplot as plt "
   ]
  },
  {
   "cell_type": "markdown",
   "id": "4f4d42ed",
   "metadata": {},
   "source": [
    "## Preprocessing"
   ]
  },
  {
   "cell_type": "markdown",
   "id": "83fbd1bf",
   "metadata": {},
   "source": [
    "### Importing and splitting the data "
   ]
  },
  {
   "cell_type": "code",
   "execution_count": 2,
   "id": "67eb5c35",
   "metadata": {},
   "outputs": [
    {
     "name": "stdout",
     "output_type": "stream",
     "text": [
      "Training size: 4185 (80%)\n",
      "Testing size: 1047 (20%)\n"
     ]
    }
   ],
   "source": [
    "import tensorflow_datasets as tfds\n",
    "\n",
    "# Load the entire dataset as a single split\n",
    "# The `+` operator combines splits.\n",
    "ds_full, ds_info = tfds.load(\n",
    "    'pneumonia_mnist',\n",
    "    split='train+val',\n",
    "    as_supervised=True,\n",
    "    with_info=True\n",
    ")\n",
    "\n",
    "# Get the number of examples in the full combined dataset\n",
    "num_examples = ds_full.cardinality().numpy()\n",
    "\n",
    "# Define the ratio for the new splits (80% for training, 20% for validation)\n",
    "train_split_size = int(0.8 * num_examples)\n",
    "test_split_size = num_examples - train_split_size\n",
    "\n",
    "# Shuffle the dataset to ensure a random split\n",
    "ds_full = ds_full.shuffle(buffer_size=num_examples)\n",
    "\n",
    "# Create the new training and validation datasets\n",
    "ds_train_custom = ds_full.take(train_split_size)\n",
    "ds_test_custom = ds_full.skip(train_split_size)\n",
    "\n",
    "full_size = ds_full.cardinality().numpy() \n",
    "train_size = ds_train_custom.cardinality().numpy() \n",
    "test_size = ds_test_custom.cardinality().numpy()\n",
    "\n",
    "print(f\"Training size: {train_size} ({train_size / full_size * 100:.0f}%)\")\n",
    "print(f\"Testing size: {test_size} ({test_size / full_size * 100:.0f}%)\") "
   ]
  },
  {
   "cell_type": "code",
   "execution_count": 3,
   "id": "df3d1519",
   "metadata": {},
   "outputs": [
    {
     "name": "stdout",
     "output_type": "stream",
     "text": [
      "<class 'tensorflow.python.data.ops.take_op._TakeDataset'>\n",
      "<class 'tensorflow.python.framework.ops.EagerTensor'>\n",
      "<class 'numpy.int64'>\n"
     ]
    }
   ],
   "source": [
    "# Exploring the types \n",
    "print(type(ds_train_custom)) \n",
    "print(type(ds_train_custom.cardinality())) \n",
    "print(type(ds_full.cardinality().numpy()))"
   ]
  },
  {
   "cell_type": "markdown",
   "id": "ea93edc5",
   "metadata": {},
   "source": [
    "### Turning the data into tensorflow's Tensor object"
   ]
  },
  {
   "cell_type": "code",
   "execution_count": 4,
   "id": "1365b093",
   "metadata": {},
   "outputs": [
    {
     "name": "stdout",
     "output_type": "stream",
     "text": [
      "Shape of X_train: (4185, 28, 28, 1)\n",
      "Shape of X_test: (1047, 28, 28, 1)\n",
      "Shape of y_train: (4185,)\n",
      "Shape of y_test: (1047,)\n"
     ]
    }
   ],
   "source": [
    "train_images_list, train_labels_list = [], [] \n",
    "test_images_list , test_labels_list = [], []\n",
    "\n",
    "for image, label in ds_train_custom:\n",
    "    train_images_list.append(image)\n",
    "    train_labels_list.append(label)\n",
    "\n",
    "for image, label in ds_test_custom:\n",
    "    test_images_list.append(image)\n",
    "    test_labels_list.append(label)\n",
    "\n",
    "X_train = tf.cast(tf.stack(train_images_list, axis=0), dtype=tf.float16)\n",
    "y_train = tf.cast(tf.stack(train_labels_list, axis=0), dtype=tf.float16)\n",
    "X_test = tf.cast(tf.stack(test_images_list, axis=0), dtype=tf.float16) \n",
    "y_test = tf.cast(tf.stack(test_labels_list, axis=0), dtype=tf.float16)\n",
    "\n",
    "print(\"Shape of X_train:\", X_train.shape)\n",
    "print(\"Shape of X_test:\", X_test.shape) \n",
    "print(\"Shape of y_train:\", y_train.shape)\n",
    "print(\"Shape of y_test:\", y_test.shape) "
   ]
  },
  {
   "cell_type": "markdown",
   "id": "39b9483d",
   "metadata": {},
   "source": [
    "### Normalizing and squeezing the features "
   ]
  },
  {
   "cell_type": "code",
   "execution_count": 5,
   "id": "6edd603d",
   "metadata": {},
   "outputs": [],
   "source": [
    "X_train = tf.squeeze(X_train) \n",
    "X_test = tf.squeeze(X_test) \n",
    "X_train_normal, X_test_normal = X_train/255, X_test/255"
   ]
  },
  {
   "cell_type": "markdown",
   "id": "f04f42b2",
   "metadata": {},
   "source": [
    "### Visualizing a random sample"
   ]
  },
  {
   "cell_type": "code",
   "execution_count": 6,
   "id": "0832dcf7",
   "metadata": {},
   "outputs": [
    {
     "data": {
      "image/png": "[encoded data removed]",
      "text/plain": [
       "<Figure size 640x480 with 1 Axes>"
      ]
     },
     "metadata": {},
     "output_type": "display_data"
    }
   ],
   "source": [
    "random_index = np.random.randint(0, len(X_test)) \n",
    "\n",
    "plt.imshow(X_test[random_index], cmap='binary') \n",
    "if int(y_test[random_index]): \n",
    "    plt.xlabel(\"Infected sample\", color='red') \n",
    "else: \n",
    "    plt.xlabel(\"Normal sample\", color='green') \n",
    "plt.show()"
   ]
  },
  {
   "cell_type": "markdown",
   "id": "58ed74b9",
   "metadata": {},
   "source": [
    "## Building the model"
   ]
  },
  {
   "cell_type": "markdown",
   "id": "abe33654",
   "metadata": {},
   "source": [
    "### Training loop"
   ]
  },
  {
   "cell_type": "code",
   "execution_count": 12,
   "id": "648c55ef",
   "metadata": {},
   "outputs": [
    {
     "name": "stdout",
     "output_type": "stream",
     "text": [
      "Epoch 1/40\n",
      "\u001b[1m131/131\u001b[0m \u001b[32m━━━━━━━━━━━━━━━━━━━━\u001b[0m\u001b[37m\u001b[0m \u001b[1m1s\u001b[0m 2ms/step - accuracy: 0.7884 - loss: 0.4917\n",
      "Epoch 2/40\n",
      "\u001b[1m131/131\u001b[0m \u001b[32m━━━━━━━━━━━━━━━━━━━━\u001b[0m\u001b[37m\u001b[0m \u001b[1m0s\u001b[0m 2ms/step - accuracy: 0.9096 - loss: 0.2271\n",
      "Epoch 3/40\n",
      "\u001b[1m131/131\u001b[0m \u001b[32m━━━━━━━━━━━━━━━━━━━━\u001b[0m\u001b[37m\u001b[0m \u001b[1m0s\u001b[0m 1ms/step - accuracy: 0.9106 - loss: 0.2233\n",
      "Epoch 4/40\n",
      "\u001b[1m131/131\u001b[0m \u001b[32m━━━━━━━━━━━━━━━━━━━━\u001b[0m\u001b[37m\u001b[0m \u001b[1m0s\u001b[0m 1ms/step - accuracy: 0.9176 - loss: 0.2040\n",
      "Epoch 5/40\n",
      "\u001b[1m131/131\u001b[0m \u001b[32m━━━━━━━━━━━━━━━━━━━━\u001b[0m\u001b[37m\u001b[0m \u001b[1m0s\u001b[0m 1ms/step - accuracy: 0.9325 - loss: 0.1679\n",
      "Epoch 6/40\n",
      "\u001b[1m131/131\u001b[0m \u001b[32m━━━━━━━━━━━━━━━━━━━━\u001b[0m\u001b[37m\u001b[0m \u001b[1m0s\u001b[0m 2ms/step - accuracy: 0.9334 - loss: 0.1678\n",
      "Epoch 7/40\n",
      "\u001b[1m131/131\u001b[0m \u001b[32m━━━━━━━━━━━━━━━━━━━━\u001b[0m\u001b[37m\u001b[0m \u001b[1m0s\u001b[0m 2ms/step - accuracy: 0.9290 - loss: 0.1927\n",
      "Epoch 8/40\n",
      "\u001b[1m131/131\u001b[0m \u001b[32m━━━━━━━━━━━━━━━━━━━━\u001b[0m\u001b[37m\u001b[0m \u001b[1m0s\u001b[0m 1ms/step - accuracy: 0.9157 - loss: 0.2013\n",
      "Epoch 9/40\n",
      "\u001b[1m131/131\u001b[0m \u001b[32m━━━━━━━━━━━━━━━━━━━━\u001b[0m\u001b[37m\u001b[0m \u001b[1m0s\u001b[0m 1ms/step - accuracy: 0.9349 - loss: 0.1698\n",
      "Epoch 10/40\n",
      "\u001b[1m131/131\u001b[0m \u001b[32m━━━━━━━━━━━━━━━━━━━━\u001b[0m\u001b[37m\u001b[0m \u001b[1m0s\u001b[0m 2ms/step - accuracy: 0.9292 - loss: 0.1842\n",
      "Epoch 11/40\n",
      "\u001b[1m131/131\u001b[0m \u001b[32m━━━━━━━━━━━━━━━━━━━━\u001b[0m\u001b[37m\u001b[0m \u001b[1m0s\u001b[0m 2ms/step - accuracy: 0.9433 - loss: 0.1515\n",
      "Epoch 12/40\n",
      "\u001b[1m131/131\u001b[0m \u001b[32m━━━━━━━━━━━━━━━━━━━━\u001b[0m\u001b[37m\u001b[0m \u001b[1m0s\u001b[0m 2ms/step - accuracy: 0.9343 - loss: 0.1791\n",
      "Epoch 13/40\n",
      "\u001b[1m131/131\u001b[0m \u001b[32m━━━━━━━━━━━━━━━━━━━━\u001b[0m\u001b[37m\u001b[0m \u001b[1m0s\u001b[0m 2ms/step - accuracy: 0.9349 - loss: 0.1815\n",
      "Epoch 14/40\n",
      "\u001b[1m131/131\u001b[0m \u001b[32m━━━━━━━━━━━━━━━━━━━━\u001b[0m\u001b[37m\u001b[0m \u001b[1m0s\u001b[0m 2ms/step - accuracy: 0.9351 - loss: 0.1710\n",
      "Epoch 15/40\n",
      "\u001b[1m131/131\u001b[0m \u001b[32m━━━━━━━━━━━━━━━━━━━━\u001b[0m\u001b[37m\u001b[0m \u001b[1m0s\u001b[0m 2ms/step - accuracy: 0.9459 - loss: 0.1499\n",
      "Epoch 16/40\n",
      "\u001b[1m131/131\u001b[0m \u001b[32m━━━━━━━━━━━━━━━━━━━━\u001b[0m\u001b[37m\u001b[0m \u001b[1m0s\u001b[0m 2ms/step - accuracy: 0.9474 - loss: 0.1521\n",
      "Epoch 17/40\n",
      "\u001b[1m131/131\u001b[0m \u001b[32m━━━━━━━━━━━━━━━━━━━━\u001b[0m\u001b[37m\u001b[0m \u001b[1m0s\u001b[0m 1ms/step - accuracy: 0.9318 - loss: 0.1733\n",
      "Epoch 18/40\n",
      "\u001b[1m131/131\u001b[0m \u001b[32m━━━━━━━━━━━━━━━━━━━━\u001b[0m\u001b[37m\u001b[0m \u001b[1m0s\u001b[0m 1ms/step - accuracy: 0.9299 - loss: 0.1910\n",
      "Epoch 19/40\n",
      "\u001b[1m131/131\u001b[0m \u001b[32m━━━━━━━━━━━━━━━━━━━━\u001b[0m\u001b[37m\u001b[0m \u001b[1m0s\u001b[0m 1ms/step - accuracy: 0.9401 - loss: 0.1537\n",
      "Epoch 20/40\n",
      "\u001b[1m131/131\u001b[0m \u001b[32m━━━━━━━━━━━━━━━━━━━━\u001b[0m\u001b[37m\u001b[0m \u001b[1m0s\u001b[0m 1ms/step - accuracy: 0.9321 - loss: 0.1738\n",
      "Epoch 21/40\n",
      "\u001b[1m131/131\u001b[0m \u001b[32m━━━━━━━━━━━━━━━━━━━━\u001b[0m\u001b[37m\u001b[0m \u001b[1m0s\u001b[0m 1ms/step - accuracy: 0.9351 - loss: 0.1781\n",
      "Epoch 22/40\n",
      "\u001b[1m131/131\u001b[0m \u001b[32m━━━━━━━━━━━━━━━━━━━━\u001b[0m\u001b[37m\u001b[0m \u001b[1m0s\u001b[0m 1ms/step - accuracy: 0.9303 - loss: 0.2066\n",
      "Epoch 23/40\n",
      "\u001b[1m131/131\u001b[0m \u001b[32m━━━━━━━━━━━━━━━━━━━━\u001b[0m\u001b[37m\u001b[0m \u001b[1m0s\u001b[0m 1ms/step - accuracy: 0.9415 - loss: 0.1501\n",
      "Epoch 24/40\n",
      "\u001b[1m131/131\u001b[0m \u001b[32m━━━━━━━━━━━━━━━━━━━━\u001b[0m\u001b[37m\u001b[0m \u001b[1m0s\u001b[0m 1ms/step - accuracy: 0.9276 - loss: 0.1878\n",
      "Epoch 25/40\n",
      "\u001b[1m131/131\u001b[0m \u001b[32m━━━━━━━━━━━━━━━━━━━━\u001b[0m\u001b[37m\u001b[0m \u001b[1m0s\u001b[0m 1ms/step - accuracy: 0.9317 - loss: 0.1833\n",
      "Epoch 26/40\n",
      "\u001b[1m131/131\u001b[0m \u001b[32m━━━━━━━━━━━━━━━━━━━━\u001b[0m\u001b[37m\u001b[0m \u001b[1m0s\u001b[0m 1ms/step - accuracy: 0.9512 - loss: 0.1269\n",
      "Epoch 27/40\n",
      "\u001b[1m131/131\u001b[0m \u001b[32m━━━━━━━━━━━━━━━━━━━━\u001b[0m\u001b[37m\u001b[0m \u001b[1m0s\u001b[0m 1ms/step - accuracy: 0.9092 - loss: 0.2403\n",
      "Epoch 28/40\n",
      "\u001b[1m131/131\u001b[0m \u001b[32m━━━━━━━━━━━━━━━━━━━━\u001b[0m\u001b[37m\u001b[0m \u001b[1m0s\u001b[0m 1ms/step - accuracy: 0.9421 - loss: 0.1603\n",
      "Epoch 29/40\n",
      "\u001b[1m131/131\u001b[0m \u001b[32m━━━━━━━━━━━━━━━━━━━━\u001b[0m\u001b[37m\u001b[0m \u001b[1m0s\u001b[0m 2ms/step - accuracy: 0.9483 - loss: 0.1405\n",
      "Epoch 30/40\n",
      "\u001b[1m131/131\u001b[0m \u001b[32m━━━━━━━━━━━━━━━━━━━━\u001b[0m\u001b[37m\u001b[0m \u001b[1m0s\u001b[0m 2ms/step - accuracy: 0.9357 - loss: 0.1735\n",
      "Epoch 31/40\n",
      "\u001b[1m131/131\u001b[0m \u001b[32m━━━━━━━━━━━━━━━━━━━━\u001b[0m\u001b[37m\u001b[0m \u001b[1m0s\u001b[0m 2ms/step - accuracy: 0.9409 - loss: 0.1628\n",
      "Epoch 32/40\n",
      "\u001b[1m131/131\u001b[0m \u001b[32m━━━━━━━━━━━━━━━━━━━━\u001b[0m\u001b[37m\u001b[0m \u001b[1m0s\u001b[0m 2ms/step - accuracy: 0.9479 - loss: 0.1452\n",
      "Epoch 33/40\n",
      "\u001b[1m131/131\u001b[0m \u001b[32m━━━━━━━━━━━━━━━━━━━━\u001b[0m\u001b[37m\u001b[0m \u001b[1m0s\u001b[0m 2ms/step - accuracy: 0.9252 - loss: 0.2286\n",
      "Epoch 34/40\n",
      "\u001b[1m131/131\u001b[0m \u001b[32m━━━━━━━━━━━━━━━━━━━━\u001b[0m\u001b[37m\u001b[0m \u001b[1m0s\u001b[0m 2ms/step - accuracy: 0.9433 - loss: 0.1430\n",
      "Epoch 35/40\n",
      "\u001b[1m131/131\u001b[0m \u001b[32m━━━━━━━━━━━━━━━━━━━━\u001b[0m\u001b[37m\u001b[0m \u001b[1m0s\u001b[0m 1ms/step - accuracy: 0.9339 - loss: 0.1660\n",
      "Epoch 36/40\n",
      "\u001b[1m131/131\u001b[0m \u001b[32m━━━━━━━━━━━━━━━━━━━━\u001b[0m\u001b[37m\u001b[0m \u001b[1m0s\u001b[0m 1ms/step - accuracy: 0.9500 - loss: 0.1395\n",
      "Epoch 37/40\n",
      "\u001b[1m131/131\u001b[0m \u001b[32m━━━━━━━━━━━━━━━━━━━━\u001b[0m\u001b[37m\u001b[0m \u001b[1m0s\u001b[0m 2ms/step - accuracy: 0.9452 - loss: 0.1490\n",
      "Epoch 38/40\n",
      "\u001b[1m131/131\u001b[0m \u001b[32m━━━━━━━━━━━━━━━━━━━━\u001b[0m\u001b[37m\u001b[0m \u001b[1m0s\u001b[0m 2ms/step - accuracy: 0.9467 - loss: 0.1572\n",
      "Epoch 39/40\n",
      "\u001b[1m131/131\u001b[0m \u001b[32m━━━━━━━━━━━━━━━━━━━━\u001b[0m\u001b[37m\u001b[0m \u001b[1m0s\u001b[0m 2ms/step - accuracy: 0.8882 - loss: 0.2309\n",
      "Epoch 40/40\n",
      "\u001b[1m131/131\u001b[0m \u001b[32m━━━━━━━━━━━━━━━━━━━━\u001b[0m\u001b[37m\u001b[0m \u001b[1m0s\u001b[0m 2ms/step - accuracy: 0.9362 - loss: 0.1627\n"
     ]
    }
   ],
   "source": [
    "tf.random.set_seed(42)\n",
    "\n",
    "xray_clf = Sequential([\n",
    "    Flatten(), \n",
    "    Dense(7, activation='relu'), \n",
    "    Dense(7, activation='relu'), \n",
    "    Dense(7, activation='relu'), \n",
    "    Dense(1, activation='sigmoid') \n",
    "]) \n",
    "\n",
    "xray_clf.compile(\n",
    "    loss='binary_crossentropy',\n",
    "                optimizer=tf.keras.optimizers.Adam(learning_rate=0.03), \n",
    "                metrics=[\"accuracy\"]\n",
    ") \n",
    "\n",
    "history = xray_clf.fit(X_train_normal, y_train, epochs=40)"
   ]
  },
  {
   "cell_type": "markdown",
   "id": "6af6383b",
   "metadata": {},
   "source": [
    "### Testing"
   ]
  },
  {
   "cell_type": "code",
   "execution_count": 13,
   "id": "f4ef0eed",
   "metadata": {},
   "outputs": [
    {
     "name": "stdout",
     "output_type": "stream",
     "text": [
      "\u001b[1m33/33\u001b[0m \u001b[32m━━━━━━━━━━━━━━━━━━━━\u001b[0m\u001b[37m\u001b[0m \u001b[1m0s\u001b[0m 3ms/step\n",
      "Model loss on test set: 0.13985207676887512\n",
      "Model accuracy on test set: 94.36%\n",
      "Confusion matrix:\n",
      "[[265   9]\n",
      " [ 50 723]]\n"
     ]
    }
   ],
   "source": [
    "loss, accuracy = xray_clf.evaluate(X_test_normal, y_test, verbose=0) \n",
    "\n",
    "y_prob = xray_clf.predict(X_test_normal) \n",
    "y_pred = np.round(y_prob)\n",
    "\n",
    "print(f\"Model loss on test set: {loss}\")\n",
    "print(f\"Model accuracy on test set: {(accuracy*100):.2f}%\") \n",
    "print(f\"Confusion matrix:\\n{confusion_matrix(y_test, y_pred)}\")"
   ]
  },
  {
   "cell_type": "markdown",
   "id": "377a5359",
   "metadata": {},
   "source": [
    "### Make random prediction with visualization on test data"
   ]
  },
  {
   "cell_type": "code",
   "execution_count": 14,
   "id": "88ae4e75",
   "metadata": {},
   "outputs": [
    {
     "data": {
      "text/plain": [
       "tensorflow.python.framework.ops.EagerTensor"
      ]
     },
     "execution_count": 14,
     "metadata": {},
     "output_type": "execute_result"
    }
   ],
   "source": [
    "type(X_test)"
   ]
  },
  {
   "cell_type": "code",
   "execution_count": 15,
   "id": "5e8a0b5a",
   "metadata": {},
   "outputs": [],
   "source": [
    "# Create a function for plotting a random image along with its prediction\n",
    "def plot_random_image(model, input_images, true_labels, classes:dict):\n",
    "    \n",
    "    # Setup random integer\n",
    "    i = np.random.randint(0, len(input_images))\n",
    "  \n",
    "    # Create predictions and targets\n",
    "    target_image = input_images[i] \n",
    "    pred_probs = model.predict(tf.reshape(target_image, (1,28,28))) # have to reshape to get into right size for model\n",
    "    pred_label = classes[int(np.round(pred_probs))]\n",
    "    true_label = classes[int(true_labels[i])]\n",
    "  \n",
    "    # Plot the target image\n",
    "    plt.imshow(target_image, cmap='binary')\n",
    "\n",
    "    # Change the color of the titles depending on if the prediction is right or wrong\n",
    "    if pred_label == true_label:\n",
    "        color = \"green\"\n",
    "    else:\n",
    "        color = \"red\"\n",
    "\n",
    "    # Add xlabel information (prediction/true label)\n",
    "    plt.xlabel(f\"Pred: {pred_label} ({100*tf.reduce_max(pred_probs):2.0f}%) (True: {true_label})\",\n",
    "               color=color) # set the color to green or red"
   ]
  },
  {
   "cell_type": "code",
   "execution_count": 16,
   "id": "0891f197",
   "metadata": {},
   "outputs": [
    {
     "name": "stdout",
     "output_type": "stream",
     "text": [
      "\u001b[1m1/1\u001b[0m \u001b[32m━━━━━━━━━━━━━━━━━━━━\u001b[0m\u001b[37m\u001b[0m \u001b[1m0s\u001b[0m 34ms/step\n"
     ]
    },
    {
     "name": "stderr",
     "output_type": "stream",
     "text": [
      "C:\\Users\\amesh\\AppData\\Local\\Temp\\ipykernel_10572\\3389131340.py:10: DeprecationWarning: Conversion of an array with ndim > 0 to a scalar is deprecated, and will error in future. Ensure you extract a single element from your array before performing this operation. (Deprecated NumPy 1.25.)\n",
      "  pred_label = classes[int(np.round(pred_probs))]\n"
     ]
    },
    {
     "data": {
      "image/png": "[encoded data removed]",
      "text/plain": [
       "<Figure size 640x480 with 1 Axes>"
      ]
     },
     "metadata": {},
     "output_type": "display_data"
    }
   ],
   "source": [
    "class_dict = {0: 'Normal',\n",
    "              1: 'Infected'} \n",
    "plot_random_image(model=xray_clf,\n",
    "                  input_images=X_test, \n",
    "                  true_labels=y_test,\n",
    "                  classes=class_dict)"
   ]
  }
 ],
 "metadata": {
  "kernelspec": {
   "display_name": "cpuenv",
   "language": "python",
   "name": "python3"
  },
  "language_info": {
   "codemirror_mode": {
    "name": "ipython",
    "version": 3
   },
   "file_extension": ".py",
   "mimetype": "text/x-python",
   "name": "python",
   "nbconvert_exporter": "python",
   "pygments_lexer": "ipython3",
   "version": "3.12.11"
  }
 },
 "nbformat": 4,
 "nbformat_minor": 5
}
