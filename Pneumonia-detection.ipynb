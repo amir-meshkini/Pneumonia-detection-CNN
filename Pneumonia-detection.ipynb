{
 "cells": [
  {
   "cell_type": "markdown",
   "id": "c7f5603e",
   "metadata": {},
   "source": [
    "# Pneummonia detection image classifier"
   ]
  },
  {
   "cell_type": "markdown",
   "id": "d615d557",
   "metadata": {},
   "source": [
    "In this project we'll set up a CNN model to predict on a famous tensorflow dataset."
   ]
  },
  {
   "cell_type": "code",
   "execution_count": 16,
   "id": "861b37a6",
   "metadata": {},
   "outputs": [],
   "source": [
    "import numpy as np \n",
    "import tensorflow as tf \n",
    "import tensorflow_datasets as tfds\n",
    "from tensorflow.keras import Sequential\n",
    "from tensorflow.keras.layers import Dense, Flatten\n",
    "from sklearn.metrics import confusion_matrix\n",
    "import matplotlib.pyplot as plt "
   ]
  },
  {
   "cell_type": "markdown",
   "id": "4f4d42ed",
   "metadata": {},
   "source": [
    "## Preprocessing"
   ]
  },
  {
   "cell_type": "markdown",
   "id": "83fbd1bf",
   "metadata": {},
   "source": [
    "### Importing and splitting the data "
   ]
  },
  {
   "cell_type": "code",
   "execution_count": 2,
   "id": "67eb5c35",
   "metadata": {},
   "outputs": [
    {
     "name": "stdout",
     "output_type": "stream",
     "text": [
      "Training size: 4185 (80%)\n",
      "Testing size: 1047 (20%)\n"
     ]
    }
   ],
   "source": [
    "import tensorflow_datasets as tfds\n",
    "\n",
    "# Load the entire dataset as a single split\n",
    "# The `+` operator combines splits.\n",
    "ds_full, ds_info = tfds.load(\n",
    "    'pneumonia_mnist',\n",
    "    split='train+val',\n",
    "    as_supervised=True,\n",
    "    with_info=True\n",
    ")\n",
    "\n",
    "# Get the number of examples in the full combined dataset\n",
    "num_examples = ds_full.cardinality().numpy()\n",
    "\n",
    "# Define the ratio for the new splits (80% for training, 20% for validation)\n",
    "train_split_size = int(0.8 * num_examples)\n",
    "test_split_size = num_examples - train_split_size\n",
    "\n",
    "# Shuffle the dataset to ensure a random split\n",
    "ds_full = ds_full.shuffle(buffer_size=num_examples)\n",
    "\n",
    "# Create the new training and validation datasets\n",
    "ds_train_custom = ds_full.take(train_split_size)\n",
    "ds_test_custom = ds_full.skip(train_split_size)\n",
    "\n",
    "full_size = ds_full.cardinality().numpy() \n",
    "train_size = ds_train_custom.cardinality().numpy() \n",
    "test_size = ds_test_custom.cardinality().numpy()\n",
    "\n",
    "print(f\"Training size: {train_size} ({train_size / full_size * 100:.0f}%)\")\n",
    "print(f\"Testing size: {test_size} ({test_size / full_size * 100:.0f}%)\") "
   ]
  },
  {
   "cell_type": "code",
   "execution_count": 3,
   "id": "df3d1519",
   "metadata": {},
   "outputs": [
    {
     "name": "stdout",
     "output_type": "stream",
     "text": [
      "<class 'tensorflow.python.data.ops.take_op._TakeDataset'>\n",
      "<class 'tensorflow.python.framework.ops.EagerTensor'>\n",
      "<class 'numpy.int64'>\n"
     ]
    }
   ],
   "source": [
    "# Exploring the types \n",
    "print(type(ds_train_custom)) \n",
    "print(type(ds_train_custom.cardinality())) \n",
    "print(type(ds_full.cardinality().numpy()))"
   ]
  },
  {
   "cell_type": "markdown",
   "id": "ea93edc5",
   "metadata": {},
   "source": [
    "### Turning the data into tensorflow's Tensor object"
   ]
  },
  {
   "cell_type": "code",
   "execution_count": 4,
   "id": "1365b093",
   "metadata": {},
   "outputs": [
    {
     "name": "stdout",
     "output_type": "stream",
     "text": [
      "Shape of X_train: (4185, 28, 28, 1)\n",
      "Shape of X_test: (1047, 28, 28, 1)\n",
      "Shape of y_train: (4185,)\n",
      "Shape of y_test: (1047,)\n"
     ]
    }
   ],
   "source": [
    "train_images_list, train_labels_list = [], [] \n",
    "test_images_list , test_labels_list = [], []\n",
    "\n",
    "for image, label in ds_train_custom:\n",
    "    train_images_list.append(image)\n",
    "    train_labels_list.append(label)\n",
    "\n",
    "for image, label in ds_test_custom:\n",
    "    test_images_list.append(image)\n",
    "    test_labels_list.append(label)\n",
    "\n",
    "X_train = tf.cast(tf.stack(train_images_list, axis=0), dtype=tf.float16)\n",
    "y_train = tf.cast(tf.stack(train_labels_list, axis=0), dtype=tf.float16)\n",
    "X_test = tf.cast(tf.stack(test_images_list, axis=0), dtype=tf.float16) \n",
    "y_test = tf.cast(tf.stack(test_labels_list, axis=0), dtype=tf.float16)\n",
    "\n",
    "print(\"Shape of X_train:\", X_train.shape)\n",
    "print(\"Shape of X_test:\", X_test.shape) \n",
    "print(\"Shape of y_train:\", y_train.shape)\n",
    "print(\"Shape of y_test:\", y_test.shape) "
   ]
  },
  {
   "cell_type": "markdown",
   "id": "39b9483d",
   "metadata": {},
   "source": [
    "### squeezing the features "
   ]
  },
  {
   "cell_type": "code",
   "execution_count": 5,
   "id": "6edd603d",
   "metadata": {},
   "outputs": [],
   "source": [
    "X_train = tf.squeeze(X_train) \n",
    "X_test = tf.squeeze(X_test)"
   ]
  },
  {
   "cell_type": "markdown",
   "id": "f04f42b2",
   "metadata": {},
   "source": [
    "### Visualizing a random sample"
   ]
  },
  {
   "cell_type": "code",
   "execution_count": 6,
   "id": "0832dcf7",
   "metadata": {},
   "outputs": [
    {
     "data": {
      "image/png": "[encoded data removed]",
      "text/plain": [
       "<Figure size 640x480 with 1 Axes>"
      ]
     },
     "metadata": {},
     "output_type": "display_data"
    }
   ],
   "source": [
    "random_index = np.random.randint(0, len(X_test)) \n",
    "\n",
    "plt.imshow(X_test[random_index], cmap='binary') \n",
    "if int(y_test[random_index]): \n",
    "    plt.xlabel(\"Infected sample\", color='red') \n",
    "else: \n",
    "    plt.xlabel(\"Normal sample\", color='green') \n",
    "plt.show()"
   ]
  },
  {
   "cell_type": "markdown",
   "id": "58ed74b9",
   "metadata": {},
   "source": [
    "## Building the model"
   ]
  },
  {
   "cell_type": "markdown",
   "id": "abe33654",
   "metadata": {},
   "source": [
    "### Training loop"
   ]
  },
  {
   "cell_type": "code",
   "execution_count": 12,
   "id": "648c55ef",
   "metadata": {},
   "outputs": [
    {
     "name": "stdout",
     "output_type": "stream",
     "text": [
      "Epoch 1/40\n",
      "\u001b[1m131/131\u001b[0m \u001b[32m━━━━━━━━━━━━━━━━━━━━\u001b[0m\u001b[37m\u001b[0m \u001b[1m1s\u001b[0m 2ms/step - accuracy: 0.7876 - loss: 0.4653\n",
      "Epoch 2/40\n",
      "\u001b[1m131/131\u001b[0m \u001b[32m━━━━━━━━━━━━━━━━━━━━\u001b[0m\u001b[37m\u001b[0m \u001b[1m0s\u001b[0m 2ms/step - accuracy: 0.9214 - loss: 0.2294\n",
      "Epoch 3/40\n",
      "\u001b[1m131/131\u001b[0m \u001b[32m━━━━━━━━━━━━━━━━━━━━\u001b[0m\u001b[37m\u001b[0m \u001b[1m0s\u001b[0m 1ms/step - accuracy: 0.9270 - loss: 0.1930\n",
      "Epoch 4/40\n",
      "\u001b[1m131/131\u001b[0m \u001b[32m━━━━━━━━━━━━━━━━━━━━\u001b[0m\u001b[37m\u001b[0m \u001b[1m0s\u001b[0m 1ms/step - accuracy: 0.9301 - loss: 0.1767\n",
      "Epoch 5/40\n",
      "\u001b[1m131/131\u001b[0m \u001b[32m━━━━━━━━━━━━━━━━━━━━\u001b[0m\u001b[37m\u001b[0m \u001b[1m0s\u001b[0m 1ms/step - accuracy: 0.9373 - loss: 0.1556\n",
      "Epoch 6/40\n",
      "\u001b[1m131/131\u001b[0m \u001b[32m━━━━━━━━━━━━━━━━━━━━\u001b[0m\u001b[37m\u001b[0m \u001b[1m0s\u001b[0m 2ms/step - accuracy: 0.9307 - loss: 0.1732\n",
      "Epoch 7/40\n",
      "\u001b[1m131/131\u001b[0m \u001b[32m━━━━━━━━━━━━━━━━━━━━\u001b[0m\u001b[37m\u001b[0m \u001b[1m0s\u001b[0m 2ms/step - accuracy: 0.9389 - loss: 0.1489\n",
      "Epoch 8/40\n",
      "\u001b[1m131/131\u001b[0m \u001b[32m━━━━━━━━━━━━━━━━━━━━\u001b[0m\u001b[37m\u001b[0m \u001b[1m0s\u001b[0m 1ms/step - accuracy: 0.9396 - loss: 0.1466\n",
      "Epoch 9/40\n",
      "\u001b[1m131/131\u001b[0m \u001b[32m━━━━━━━━━━━━━━━━━━━━\u001b[0m\u001b[37m\u001b[0m \u001b[1m0s\u001b[0m 1ms/step - accuracy: 0.9401 - loss: 0.1487\n",
      "Epoch 10/40\n",
      "\u001b[1m131/131\u001b[0m \u001b[32m━━━━━━━━━━━━━━━━━━━━\u001b[0m\u001b[37m\u001b[0m \u001b[1m0s\u001b[0m 1ms/step - accuracy: 0.9397 - loss: 0.1439\n",
      "Epoch 11/40\n",
      "\u001b[1m131/131\u001b[0m \u001b[32m━━━━━━━━━━━━━━━━━━━━\u001b[0m\u001b[37m\u001b[0m \u001b[1m0s\u001b[0m 1ms/step - accuracy: 0.9384 - loss: 0.1504\n",
      "Epoch 12/40\n",
      "\u001b[1m131/131\u001b[0m \u001b[32m━━━━━━━━━━━━━━━━━━━━\u001b[0m\u001b[37m\u001b[0m \u001b[1m0s\u001b[0m 1ms/step - accuracy: 0.9383 - loss: 0.1476\n",
      "Epoch 13/40\n",
      "\u001b[1m131/131\u001b[0m \u001b[32m━━━━━━━━━━━━━━━━━━━━\u001b[0m\u001b[37m\u001b[0m \u001b[1m0s\u001b[0m 1ms/step - accuracy: 0.9383 - loss: 0.1466\n",
      "Epoch 14/40\n",
      "\u001b[1m131/131\u001b[0m \u001b[32m━━━━━━━━━━━━━━━━━━━━\u001b[0m\u001b[37m\u001b[0m \u001b[1m0s\u001b[0m 1ms/step - accuracy: 0.9441 - loss: 0.1358\n",
      "Epoch 15/40\n",
      "\u001b[1m131/131\u001b[0m \u001b[32m━━━━━━━━━━━━━━━━━━━━\u001b[0m\u001b[37m\u001b[0m \u001b[1m0s\u001b[0m 1ms/step - accuracy: 0.9446 - loss: 0.1366\n",
      "Epoch 16/40\n",
      "\u001b[1m131/131\u001b[0m \u001b[32m━━━━━━━━━━━━━━━━━━━━\u001b[0m\u001b[37m\u001b[0m \u001b[1m0s\u001b[0m 2ms/step - accuracy: 0.9448 - loss: 0.1319\n",
      "Epoch 17/40\n",
      "\u001b[1m131/131\u001b[0m \u001b[32m━━━━━━━━━━━━━━━━━━━━\u001b[0m\u001b[37m\u001b[0m \u001b[1m0s\u001b[0m 1ms/step - accuracy: 0.9446 - loss: 0.1295\n",
      "Epoch 18/40\n",
      "\u001b[1m131/131\u001b[0m \u001b[32m━━━━━━━━━━━━━━━━━━━━\u001b[0m\u001b[37m\u001b[0m \u001b[1m0s\u001b[0m 1ms/step - accuracy: 0.9437 - loss: 0.1384\n",
      "Epoch 19/40\n",
      "\u001b[1m131/131\u001b[0m \u001b[32m━━━━━━━━━━━━━━━━━━━━\u001b[0m\u001b[37m\u001b[0m \u001b[1m0s\u001b[0m 1ms/step - accuracy: 0.9462 - loss: 0.1379\n",
      "Epoch 20/40\n",
      "\u001b[1m131/131\u001b[0m \u001b[32m━━━━━━━━━━━━━━━━━━━━\u001b[0m\u001b[37m\u001b[0m \u001b[1m0s\u001b[0m 2ms/step - accuracy: 0.9491 - loss: 0.1237\n",
      "Epoch 21/40\n",
      "\u001b[1m131/131\u001b[0m \u001b[32m━━━━━━━━━━━━━━━━━━━━\u001b[0m\u001b[37m\u001b[0m \u001b[1m0s\u001b[0m 2ms/step - accuracy: 0.9489 - loss: 0.1259\n",
      "Epoch 22/40\n",
      "\u001b[1m131/131\u001b[0m \u001b[32m━━━━━━━━━━━━━━━━━━━━\u001b[0m\u001b[37m\u001b[0m \u001b[1m0s\u001b[0m 1ms/step - accuracy: 0.9447 - loss: 0.1409\n",
      "Epoch 23/40\n",
      "\u001b[1m131/131\u001b[0m \u001b[32m━━━━━━━━━━━━━━━━━━━━\u001b[0m\u001b[37m\u001b[0m \u001b[1m0s\u001b[0m 1ms/step - accuracy: 0.9438 - loss: 0.1406\n",
      "Epoch 24/40\n",
      "\u001b[1m131/131\u001b[0m \u001b[32m━━━━━━━━━━━━━━━━━━━━\u001b[0m\u001b[37m\u001b[0m \u001b[1m0s\u001b[0m 1ms/step - accuracy: 0.9483 - loss: 0.1316\n",
      "Epoch 25/40\n",
      "\u001b[1m131/131\u001b[0m \u001b[32m━━━━━━━━━━━━━━━━━━━━\u001b[0m\u001b[37m\u001b[0m \u001b[1m0s\u001b[0m 1ms/step - accuracy: 0.9439 - loss: 0.1299\n",
      "Epoch 26/40\n",
      "\u001b[1m131/131\u001b[0m \u001b[32m━━━━━━━━━━━━━━━━━━━━\u001b[0m\u001b[37m\u001b[0m \u001b[1m0s\u001b[0m 2ms/step - accuracy: 0.9489 - loss: 0.1229\n",
      "Epoch 27/40\n",
      "\u001b[1m131/131\u001b[0m \u001b[32m━━━━━━━━━━━━━━━━━━━━\u001b[0m\u001b[37m\u001b[0m \u001b[1m0s\u001b[0m 1ms/step - accuracy: 0.9503 - loss: 0.1261\n",
      "Epoch 28/40\n",
      "\u001b[1m131/131\u001b[0m \u001b[32m━━━━━━━━━━━━━━━━━━━━\u001b[0m\u001b[37m\u001b[0m \u001b[1m0s\u001b[0m 1ms/step - accuracy: 0.9457 - loss: 0.1353\n",
      "Epoch 29/40\n",
      "\u001b[1m131/131\u001b[0m \u001b[32m━━━━━━━━━━━━━━━━━━━━\u001b[0m\u001b[37m\u001b[0m \u001b[1m0s\u001b[0m 2ms/step - accuracy: 0.9427 - loss: 0.1381\n",
      "Epoch 30/40\n",
      "\u001b[1m131/131\u001b[0m \u001b[32m━━━━━━━━━━━━━━━━━━━━\u001b[0m\u001b[37m\u001b[0m \u001b[1m0s\u001b[0m 2ms/step - accuracy: 0.9440 - loss: 0.1479\n",
      "Epoch 31/40\n",
      "\u001b[1m131/131\u001b[0m \u001b[32m━━━━━━━━━━━━━━━━━━━━\u001b[0m\u001b[37m\u001b[0m \u001b[1m0s\u001b[0m 2ms/step - accuracy: 0.9431 - loss: 0.1386\n",
      "Epoch 32/40\n",
      "\u001b[1m131/131\u001b[0m \u001b[32m━━━━━━━━━━━━━━━━━━━━\u001b[0m\u001b[37m\u001b[0m \u001b[1m0s\u001b[0m 2ms/step - accuracy: 0.9428 - loss: 0.1527\n",
      "Epoch 33/40\n",
      "\u001b[1m131/131\u001b[0m \u001b[32m━━━━━━━━━━━━━━━━━━━━\u001b[0m\u001b[37m\u001b[0m \u001b[1m0s\u001b[0m 1ms/step - accuracy: 0.9581 - loss: 0.1151\n",
      "Epoch 34/40\n",
      "\u001b[1m131/131\u001b[0m \u001b[32m━━━━━━━━━━━━━━━━━━━━\u001b[0m\u001b[37m\u001b[0m \u001b[1m0s\u001b[0m 1ms/step - accuracy: 0.9443 - loss: 0.1414\n",
      "Epoch 35/40\n",
      "\u001b[1m131/131\u001b[0m \u001b[32m━━━━━━━━━━━━━━━━━━━━\u001b[0m\u001b[37m\u001b[0m \u001b[1m0s\u001b[0m 1ms/step - accuracy: 0.9566 - loss: 0.1121\n",
      "Epoch 36/40\n",
      "\u001b[1m131/131\u001b[0m \u001b[32m━━━━━━━━━━━━━━━━━━━━\u001b[0m\u001b[37m\u001b[0m \u001b[1m0s\u001b[0m 1ms/step - accuracy: 0.9548 - loss: 0.1218\n",
      "Epoch 37/40\n",
      "\u001b[1m131/131\u001b[0m \u001b[32m━━━━━━━━━━━━━━━━━━━━\u001b[0m\u001b[37m\u001b[0m \u001b[1m0s\u001b[0m 1ms/step - accuracy: 0.9479 - loss: 0.1335\n",
      "Epoch 38/40\n",
      "\u001b[1m131/131\u001b[0m \u001b[32m━━━━━━━━━━━━━━━━━━━━\u001b[0m\u001b[37m\u001b[0m \u001b[1m0s\u001b[0m 1ms/step - accuracy: 0.9538 - loss: 0.1108\n",
      "Epoch 39/40\n",
      "\u001b[1m131/131\u001b[0m \u001b[32m━━━━━━━━━━━━━━━━━━━━\u001b[0m\u001b[37m\u001b[0m \u001b[1m0s\u001b[0m 2ms/step - accuracy: 0.9450 - loss: 0.1489\n",
      "Epoch 40/40\n",
      "\u001b[1m131/131\u001b[0m \u001b[32m━━━━━━━━━━━━━━━━━━━━\u001b[0m\u001b[37m\u001b[0m \u001b[1m0s\u001b[0m 1ms/step - accuracy: 0.9558 - loss: 0.1257\n"
     ]
    }
   ],
   "source": [
    "tf.random.set_seed(42)\n",
    "\n",
    "xray_clf = Sequential([\n",
    "    Flatten(input_shape=(28,28)), \n",
    "    Dense(7, activation='relu'), \n",
    "    Dense(7, activation='relu'), \n",
    "    Dense(7, activation='relu'), \n",
    "    Dense(1, activation='sigmoid') \n",
    "]) \n",
    "\n",
    "xray_clf.compile(\n",
    "    loss='binary_crossentropy',\n",
    "                optimizer=tf.keras.optimizers.Adam(learning_rate=0.02), \n",
    "                metrics=[\"accuracy\"]\n",
    ") \n",
    "\n",
    "history = xray_clf.fit(X_train / 255, y_train, epochs=40)"
   ]
  },
  {
   "cell_type": "markdown",
   "id": "6af6383b",
   "metadata": {},
   "source": [
    "### Testing"
   ]
  },
  {
   "cell_type": "code",
   "execution_count": 23,
   "id": "f4ef0eed",
   "metadata": {},
   "outputs": [
    {
     "name": "stdout",
     "output_type": "stream",
     "text": [
      "\u001b[1m33/33\u001b[0m \u001b[32m━━━━━━━━━━━━━━━━━━━━\u001b[0m\u001b[37m\u001b[0m \u001b[1m0s\u001b[0m 2ms/step - accuracy: 0.9575 - loss: 0.1382 \n",
      "\u001b[1m33/33\u001b[0m \u001b[32m━━━━━━━━━━━━━━━━━━━━\u001b[0m\u001b[37m\u001b[0m \u001b[1m0s\u001b[0m 1ms/step \n",
      "Model loss on test set: 0.11585213243961334\n",
      "Model accuracy on test set: 96.37%\n",
      "Confusion matrix:\n",
      "[[255  14]\n",
      " [ 24 754]]\n"
     ]
    }
   ],
   "source": [
    "loss, accuracy = xray_clf.evaluate(X_test/255, y_test) \n",
    "\n",
    "y_prob = xray_clf.predict(X_test/255) \n",
    "y_pred = np.round(y_prob)\n",
    "\n",
    "print(f\"Model loss on test set: {loss}\")\n",
    "print(f\"Model accuracy on test set: {(accuracy*100):.2f}%\") \n",
    "print(f\"Confusion matrix:\\n{confusion_matrix(y_test, y_pred)}\")"
   ]
  }
 ],
 "metadata": {
  "kernelspec": {
   "display_name": "cpuenv",
   "language": "python",
   "name": "python3"
  },
  "language_info": {
   "codemirror_mode": {
    "name": "ipython",
    "version": 3
   },
   "file_extension": ".py",
   "mimetype": "text/x-python",
   "name": "python",
   "nbconvert_exporter": "python",
   "pygments_lexer": "ipython3",
   "version": "3.12.11"
  }
 },
 "nbformat": 4,
 "nbformat_minor": 5
}
